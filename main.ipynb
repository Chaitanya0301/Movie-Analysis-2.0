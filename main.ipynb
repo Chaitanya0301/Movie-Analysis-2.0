{
 "cells": [
  {
   "cell_type": "code",
   "execution_count": 1,
   "id": "a1bfa1f3",
   "metadata": {},
   "outputs": [],
   "source": [
    "# project: p9\n",
    "# submitter: csharma4@wisc.edu\n",
    "# partner: none\n",
    "# hours: 4"
   ]
  },
  {
   "cell_type": "code",
   "execution_count": 2,
   "id": "ff702d31",
   "metadata": {},
   "outputs": [],
   "source": [
    "import csv\n",
    "import matplotlib\n",
    "import pandas"
   ]
  },
  {
   "cell_type": "code",
   "execution_count": 3,
   "id": "01d8eb0f",
   "metadata": {},
   "outputs": [],
   "source": [
    "def plot_dict(d,label):\n",
    "    ax = pandas.Series(d).sort_index().plot.bar(color=\"black\", fontsize=16)\n",
    "    ax.set_ylabel(label, fontsize=16)"
   ]
  },
  {
   "cell_type": "code",
   "execution_count": 4,
   "id": "d6f7f17a",
   "metadata": {},
   "outputs": [],
   "source": [
    "def year_to_decade(year):\n",
    "    if year % 10 == 0:\n",
    "        decade_start = year - 9 #Complete this line/lines\n",
    "    else:\n",
    "        decade_start = year - (year % 10) + 1\n",
    "        #Complete this line/lines\n",
    "    ans = str(decade_start) + ' to ' + str(decade_start + 9)\n",
    "    # you can either return here, or delete this return statement\n",
    "    # and return above this line\n",
    "    return ans"
   ]
  },
  {
   "cell_type": "code",
   "execution_count": 5,
   "id": "a48c720a",
   "metadata": {},
   "outputs": [],
   "source": [
    "def median(items):\n",
    "    itemSort = sorted(items)\n",
    "    if len(items) % 2 != 0:\n",
    "        median = itemSort[int(len(items)/2)]\n",
    "        return median\n",
    "    else:\n",
    "        mid1 = itemSort[int(len(items)/2 - 1)]\n",
    "        mid2 = itemSort[int(len(items)/2)]\n",
    "        median = (mid1 + mid2)/2\n",
    "        return median"
   ]
  },
  {
   "cell_type": "code",
   "execution_count": 6,
   "id": "e90f25cd",
   "metadata": {},
   "outputs": [],
   "source": [
    "def find_specific_movies(movies, keyword):\n",
    "    '''given a list of movie dictionaries and a keyword,\n",
    "    returns a list of movies that contains the keyword'''\n",
    "    movies_new = list()\n",
    "    for movie in movies:\n",
    "        if (keyword in movie['title']) or (keyword in movie['genres']) \\\n",
    "            or (keyword in movie['directors']) or (keyword in movie['actors']):\n",
    "            movies_new.append(movie)\n",
    "    return movies_new"
   ]
  },
  {
   "cell_type": "code",
   "execution_count": 7,
   "id": "0e732370",
   "metadata": {},
   "outputs": [],
   "source": [
    "def process_csv(filename):\n",
    "    example_file = open(filename, encoding=\"utf-8\")\n",
    "    example_reader = csv.reader(example_file)\n",
    "    example_data = list(example_reader)\n",
    "    example_file.close()\n",
    "    return example_data\n",
    "def get_mapping(path):\n",
    "    \"\"\"\n",
    "    Converts mapping csv list of lists data into a dict with keys as IDs and values as names.\n",
    "    \"\"\"\n",
    "    import csv\n",
    "    # Task 2.2 of Lab-P8 has all the necessary steps to complete this function.\n",
    "    # You just need to copy/paste the relevant code, identify the input and output of the function.\n",
    "    csv_Data = process_csv(path)\n",
    "    mapping_rows = []\n",
    "    for i in range(len(csv_Data)):\n",
    "        mapping_rows.append(csv_Data[i])\n",
    "    mapping_dict = {}\n",
    "    Ids = []\n",
    "    names = []\n",
    "    for i in range(len(mapping_rows)):\n",
    "        Ids.append(mapping_rows[i][0])\n",
    "        names.append(mapping_rows[i][1])\n",
    "    for i in range(len(Ids)):\n",
    "        if Ids[i] not in mapping_dict:\n",
    "            mapping_dict[Ids[i]] = None\n",
    "        if  mapping_dict[Ids[i]] == None:\n",
    "            mapping_dict[Ids[i]] = names[i]\n",
    "    return mapping_dict\n",
    "def get_raw_movies(path):\n",
    "    \"\"\"\n",
    "    Converts movies csv list of lists data into a dict with keys as column names and values as corresponding type converted values.\n",
    "    \"\"\"\n",
    "    # Task 2.1 and 2.3c of Lab-P8 have all the necessary steps to complete this function.\n",
    "    # You just need to copy/paste the relevant code, identify the input and output of the function.\n",
    "    csv_rows = process_csv(path)\n",
    "    csv_header = csv_rows[0]\n",
    "    csv_data = csv_rows[1:]\n",
    "    data = {}\n",
    "    split = []\n",
    "    final = []\n",
    "    for row in csv_data:\n",
    "        for i in range(len(row)):\n",
    "            if csv_header[i] == \"actors\" or csv_header[i] == \"genres\" or csv_header[i] == \"directors\":\n",
    "                split = row[i].split(', ')\n",
    "                data[csv_header[i]] = split\n",
    "            elif csv_header[i] == \"rating\":\n",
    "                val = float(row[i])\n",
    "                data[csv_header[i]] = val\n",
    "            elif csv_header[i] == \"duration\":\n",
    "                val = int(row[i])\n",
    "                data[csv_header[i]] = val\n",
    "            elif csv_header[i] == \"year\":\n",
    "                val = int(row[i])\n",
    "                data[csv_header[i]] = val\n",
    "            else: \n",
    "                data[csv_header[i]] = row[i]\n",
    "        final.append(data.copy())\n",
    "    return final\n",
    "def get_movies(movies_path, mapping_path):\n",
    "    csv_rows = process_csv(\"movies.csv\")\n",
    "    csv_header = csv_rows[0]\n",
    "    csv_data = csv_rows[1:]\n",
    "    raw_movies = get_raw_movies(movies_path)\n",
    "    movies = raw_movies.copy()\n",
    "    mapping = get_mapping(mapping_path)\n",
    "    for row in range(len(raw_movies)):\n",
    "        if \"title\" in raw_movies[row].keys():\n",
    "            title = mapping.get(raw_movies[row][\"title\"])\n",
    "            movies[row][\"title\"] = title\n",
    "        if \"actors\" in raw_movies[row].keys():\n",
    "            for i in range(len(raw_movies[row][\"actors\"])):\n",
    "                actor = mapping.get(raw_movies[row][\"actors\"][i])\n",
    "                movies[row][\"actors\"][i] = actor\n",
    "        if \"directors\" in raw_movies[row].keys():\n",
    "            for i in range(len(raw_movies[row][\"directors\"])):\n",
    "                director = mapping.get(raw_movies[row][\"directors\"][i])\n",
    "                movies[row][\"directors\"][i] = director\n",
    "    return movies"
   ]
  },
  {
   "cell_type": "code",
   "execution_count": 8,
   "id": "06ce4ff5",
   "metadata": {},
   "outputs": [],
   "source": [
    "movies = get_movies(\"movies.csv\", \"mapping.csv\")"
   ]
  },
  {
   "cell_type": "code",
   "execution_count": 9,
   "id": "2434d2a2",
   "metadata": {},
   "outputs": [
    {
     "data": {
      "text/plain": [
       "7.725"
      ]
     },
     "execution_count": 9,
     "metadata": {},
     "output_type": "execute_result"
    }
   ],
   "source": [
    "#Q1: What is the average rating of the 'Harry Potter' movies directed by 'David Yates'?\n",
    "HarryPotter = find_specific_movies(movies,'Harry Potter') \n",
    "movieReq = []\n",
    "for movie in HarryPotter:\n",
    "    if 'David Yates' in movie['directors']:\n",
    "        movieReq.append(movie) \n",
    "sum = 0\n",
    "for movie in movieReq:\n",
    "    sum += movie['rating']\n",
    "average = sum/(len(movieReq))\n",
    "average"
   ]
  },
  {
   "cell_type": "code",
   "execution_count": 10,
   "id": "70f85f5e",
   "metadata": {},
   "outputs": [
    {
     "data": {
      "text/plain": [
       "6.8"
      ]
     },
     "execution_count": 10,
     "metadata": {},
     "output_type": "execute_result"
    }
   ],
   "source": [
    "#Q2: What is the median rating of all 'Ice Age' movies?\n",
    "IceAge = find_specific_movies(movies,'Ice Age')\n",
    "ratingIA = []\n",
    "for movie in IceAge:\n",
    "    ratingIA.append(movie['rating'])\n",
    "median(ratingIA)"
   ]
  },
  {
   "cell_type": "code",
   "execution_count": 11,
   "id": "9fab7770",
   "metadata": {},
   "outputs": [
    {
     "data": {
      "text/plain": [
       "[{'title': 'Proud American',\n",
       "  'year': 2008,\n",
       "  'genres': ['Drama'],\n",
       "  'duration': 115,\n",
       "  'directors': ['Fred Ashman'],\n",
       "  'actors': ['Michael G. Davis',\n",
       "   'Cecelia Antoinette',\n",
       "   'Marie Antoinette',\n",
       "   'Michelle Ashman'],\n",
       "  'rating': 1.1},\n",
       " {'title': 'Troy: The Resurrection of Aeneas',\n",
       "  'year': 2018,\n",
       "  'genres': ['Animation', 'Action', 'Adventure'],\n",
       "  'duration': 60,\n",
       "  'directors': ['Aeneas Middleton'],\n",
       "  'actors': ['Aeneas Middleton', 'Hardley Davidson'],\n",
       "  'rating': 1.1},\n",
       " {'title': 'Browncoats: Independence War',\n",
       "  'year': 2015,\n",
       "  'genres': ['Action', 'Sci-Fi', 'War'],\n",
       "  'duration': 98,\n",
       "  'directors': ['Francis Hamada'],\n",
       "  'actors': ['Beth Bemis',\n",
       "   'Richard Martinsen',\n",
       "   'Will James Johnson',\n",
       "   'Nathan Cosmo Rahn'],\n",
       "  'rating': 1.1},\n",
       " {'title': 'The Time Machine (I Found at a Yardsale)',\n",
       "  'year': 2011,\n",
       "  'genres': ['Sci-Fi'],\n",
       "  'duration': 84,\n",
       "  'directors': ['Steven A. Sandt'],\n",
       "  'actors': ['George Abdelmalak', 'Steven Ronald Brattman', 'Elise Caloca'],\n",
       "  'rating': 1.1},\n",
       " {'title': 'A Moment of Youth',\n",
       "  'year': 2011,\n",
       "  'genres': ['Adventure', 'Biography', 'Comedy'],\n",
       "  'duration': 143,\n",
       "  'directors': ['Matthew C. Anderson', 'Nicola Barbour'],\n",
       "  'actors': ['Isaac Bonillo Alcaina',\n",
       "   'Gustavo Dettler',\n",
       "   'Yohanna Farrell-Knight',\n",
       "   'Luke Heaney'],\n",
       "  'rating': 1.1}]"
      ]
     },
     "execution_count": 11,
     "metadata": {},
     "output_type": "execute_result"
    }
   ],
   "source": [
    "#Q3: What are all the movies that have the lowest rating?\n",
    "lowest = 1000000\n",
    "for movie in movies:\n",
    "    if movie['rating'] <= lowest:\n",
    "        lowest = movie['rating']\n",
    "lowRating = []\n",
    "for movie in movies:\n",
    "    if movie['rating'] == lowest:\n",
    "        lowRating.append(movie)\n",
    "lowRating"
   ]
  },
  {
   "cell_type": "code",
   "execution_count": 12,
   "id": "77081de6",
   "metadata": {},
   "outputs": [],
   "source": [
    "def max_rated_movies(movie_list):\n",
    "    \"\"\"\n",
    "    Input: A list of movies.\n",
    "    Return: A list of highest rated movies among the input list.\n",
    "    \"\"\"\n",
    "    highest = 0\n",
    "    for movie in movie_list:\n",
    "        if movie['rating'] > highest:\n",
    "            highest = movie['rating']\n",
    "    maxRating = []\n",
    "    for movie in movie_list:\n",
    "        if movie['rating'] == highest:\n",
    "            maxRating.append(movie)\n",
    "    return maxRating"
   ]
  },
  {
   "cell_type": "code",
   "execution_count": 13,
   "id": "3fa0b258",
   "metadata": {},
   "outputs": [
    {
     "data": {
      "text/plain": [
       "[{'title': 'Avengers: Infinity War',\n",
       "  'year': 2018,\n",
       "  'genres': ['Action', 'Adventure', 'Sci-Fi'],\n",
       "  'duration': 149,\n",
       "  'directors': ['Anthony Russo', 'Joe Russo'],\n",
       "  'actors': ['Robert Downey Jr.',\n",
       "   'Chris Hemsworth',\n",
       "   'Mark Ruffalo',\n",
       "   'Chris Evans',\n",
       "   'Scarlett Johansson'],\n",
       "  'rating': 8.4},\n",
       " {'title': 'Avengers: Endgame',\n",
       "  'year': 2019,\n",
       "  'genres': ['Action', 'Adventure', 'Drama'],\n",
       "  'duration': 181,\n",
       "  'directors': ['Anthony Russo', 'Joe Russo'],\n",
       "  'actors': ['Robert Downey Jr.',\n",
       "   'Chris Evans',\n",
       "   'Mark Ruffalo',\n",
       "   'Chris Hemsworth',\n",
       "   'Scarlett Johansson'],\n",
       "  'rating': 8.4}]"
      ]
     },
     "execution_count": 13,
     "metadata": {},
     "output_type": "execute_result"
    }
   ],
   "source": [
    "#Q4: Among all the 'Avengers' movies, which ones are highest rated?\n",
    "Avengers = find_specific_movies(movies,'Avengers')\n",
    "max_rated_movies(Avengers)"
   ]
  },
  {
   "cell_type": "code",
   "execution_count": 14,
   "id": "a2adcbda",
   "metadata": {},
   "outputs": [],
   "source": [
    "def bucketize(movie_list, category):\n",
    "    \"\"\"\n",
    "    Input: A list of movies and a category string.\n",
    "    Return: A dictionary that bucketizes `movie_list` by `category`.\n",
    "    Requirements: See the instructions in README.md\n",
    "    \"\"\"\n",
    "    buckets = {}\n",
    "    if category == \"actors\" or category == \"directors\" or category == \"genres\":\n",
    "        for movie in movie_list:\n",
    "            for i in range(len(movie[category])):\n",
    "                var = movie[category][i]\n",
    "                if not var in buckets:\n",
    "                    buckets[var] = []\n",
    "                buckets[var].append(movie)\n",
    "    else:\n",
    "        for movie in movie_list:\n",
    "            var = movie[category]\n",
    "            if not var in buckets:\n",
    "                buckets[var] = []\n",
    "            buckets[var].append(movie)\n",
    "    return buckets"
   ]
  },
  {
   "cell_type": "code",
   "execution_count": 15,
   "id": "7e426320",
   "metadata": {},
   "outputs": [],
   "source": [
    "# Buceketize the full list of movies by their actors.\n",
    "actors_buckets = bucketize(movies,'actors')\n",
    "# Buceketize the full list of movies by their directors.\n",
    "directors_buckets = bucketize(movies,'directors')\n",
    "# Buceketize the full list of movies by their genre.\n",
    "genre_buckets = bucketize(movies,'genres')\n",
    "# Buceketize the full list of movies by their year.\n",
    "year_buckets = bucketize(movies,'year')"
   ]
  },
  {
   "cell_type": "code",
   "execution_count": 16,
   "id": "cd552f7a",
   "metadata": {},
   "outputs": [
    {
     "data": {
      "text/plain": [
       "[{'title': 'A Kid Like Jake',\n",
       "  'year': 2018,\n",
       "  'genres': ['Drama', 'Family'],\n",
       "  'duration': 92,\n",
       "  'directors': ['Silas Howard'],\n",
       "  'actors': ['Claire Danes',\n",
       "   'Jim Parsons',\n",
       "   'Octavia Spencer',\n",
       "   'Priyanka Chopra'],\n",
       "  'rating': 5.4},\n",
       " {'title': 'Hidden Figures',\n",
       "  'year': 2016,\n",
       "  'genres': ['Biography', 'Drama', 'History'],\n",
       "  'duration': 127,\n",
       "  'directors': ['Theodore Melfi'],\n",
       "  'actors': ['Taraji P. Henson', 'Octavia Spencer', 'Janelle Monáe'],\n",
       "  'rating': 7.8},\n",
       " {'title': 'The Shape of Water',\n",
       "  'year': 2017,\n",
       "  'genres': ['Adventure', 'Drama', 'Fantasy'],\n",
       "  'duration': 123,\n",
       "  'directors': ['Guillermo del Toro'],\n",
       "  'actors': ['Sally Hawkins',\n",
       "   'Michael Shannon',\n",
       "   'Richard Jenkins',\n",
       "   'Octavia Spencer'],\n",
       "  'rating': 7.3},\n",
       " {'title': 'Car Dogs',\n",
       "  'year': 2016,\n",
       "  'genres': ['Comedy', 'Drama'],\n",
       "  'duration': 104,\n",
       "  'directors': ['Adam Collis'],\n",
       "  'actors': ['Octavia Spencer',\n",
       "   'Alessandra Torresani',\n",
       "   'Patrick J. Adams',\n",
       "   'Nia Vardalos'],\n",
       "  'rating': 5.0},\n",
       " {'title': 'Small Town Crime',\n",
       "  'year': 2017,\n",
       "  'genres': ['Crime', 'Mystery', 'Thriller'],\n",
       "  'duration': 91,\n",
       "  'directors': ['Eshom Nelms', 'Ian Nelms'],\n",
       "  'actors': ['John Hawkes',\n",
       "   'Anthony Anderson',\n",
       "   'Octavia Spencer',\n",
       "   'Robert Forster'],\n",
       "  'rating': 6.6},\n",
       " {'title': 'Instant Family',\n",
       "  'year': 2018,\n",
       "  'genres': ['Comedy', 'Drama'],\n",
       "  'duration': 118,\n",
       "  'directors': ['Sean Anders'],\n",
       "  'actors': ['Mark Wahlberg',\n",
       "   'Rose Byrne',\n",
       "   'Isabela Merced',\n",
       "   'Gustavo Escobar',\n",
       "   'Octavia Spencer'],\n",
       "  'rating': 7.3},\n",
       " {'title': 'The Free World',\n",
       "  'year': 2016,\n",
       "  'genres': ['Drama', 'Romance'],\n",
       "  'duration': 100,\n",
       "  'directors': ['Jason Lew'],\n",
       "  'actors': ['Elisabeth Moss',\n",
       "   'Octavia Spencer',\n",
       "   'Boyd Holbrook',\n",
       "   'Sung Kang'],\n",
       "  'rating': 6.1},\n",
       " {'title': 'Being John Malkovich',\n",
       "  'year': 1999,\n",
       "  'genres': ['Comedy', 'Drama', 'Fantasy'],\n",
       "  'duration': 113,\n",
       "  'directors': ['Spike Jonze'],\n",
       "  'actors': ['John Cusack', 'Cameron Diaz', 'Ned Bellamy', 'Octavia Spencer'],\n",
       "  'rating': 7.7},\n",
       " {'title': 'Ma',\n",
       "  'year': 2019,\n",
       "  'genres': ['Horror', 'Mystery', 'Thriller'],\n",
       "  'duration': 99,\n",
       "  'directors': ['Tate Taylor'],\n",
       "  'actors': ['Octavia Spencer', 'Diana Silvers'],\n",
       "  'rating': 5.6},\n",
       " {'title': 'Luce',\n",
       "  'year': 2019,\n",
       "  'genres': ['Drama', 'Mystery'],\n",
       "  'duration': 109,\n",
       "  'directors': ['Julius Onah'],\n",
       "  'actors': ['Naomi Watts', 'Octavia Spencer', 'Kelvin Harrison Jr.'],\n",
       "  'rating': 6.7},\n",
       " {'title': 'Black or White',\n",
       "  'year': 2014,\n",
       "  'genres': ['Drama'],\n",
       "  'duration': 121,\n",
       "  'directors': ['Mike Binder'],\n",
       "  'actors': ['Kevin Costner', 'Octavia Spencer', 'Mpho Koaho'],\n",
       "  'rating': 6.6},\n",
       " {'title': 'Fruitvale Station',\n",
       "  'year': 2013,\n",
       "  'genres': ['Biography', 'Crime', 'Drama'],\n",
       "  'duration': 85,\n",
       "  'directors': ['Ryan Coogler'],\n",
       "  'actors': ['Michael B. Jordan', 'Melonie Diaz', 'Octavia Spencer'],\n",
       "  'rating': 7.5},\n",
       " {'title': 'The Shack',\n",
       "  'year': 2017,\n",
       "  'genres': ['Drama', 'Fantasy'],\n",
       "  'duration': 132,\n",
       "  'directors': ['Stuart Hazeldine'],\n",
       "  'actors': ['Sam Worthington', 'Octavia Spencer', 'Tim McGraw'],\n",
       "  'rating': 6.3}]"
      ]
     },
     "execution_count": 16,
     "metadata": {},
     "output_type": "execute_result"
    }
   ],
   "source": [
    "#Q5: Which movies did 'Octavia Spencer' act in?\n",
    "actors_buckets['Octavia Spencer']"
   ]
  },
  {
   "cell_type": "code",
   "execution_count": 17,
   "id": "751821c1",
   "metadata": {},
   "outputs": [
    {
     "data": {
      "text/plain": [
       "[{'title': 'Ninja Cheerleaders',\n",
       "  'year': 2008,\n",
       "  'genres': ['Action', 'Comedy'],\n",
       "  'duration': 81,\n",
       "  'directors': ['David Presley'],\n",
       "  'actors': ['Trishelle Cannatella',\n",
       "   'Ginny Weirick',\n",
       "   'Maitland McConnell',\n",
       "   'George Takei'],\n",
       "  'rating': 3.3},\n",
       " {'title': 'Live by the Fist',\n",
       "  'year': 1993,\n",
       "  'genres': ['Action', 'Crime', 'Drama'],\n",
       "  'duration': 77,\n",
       "  'directors': ['Cirio H. Santiago'],\n",
       "  'actors': ['Jerry Trimble', 'George Takei', 'Ted Markland'],\n",
       "  'rating': 4.3},\n",
       " {'title': 'Free Birds',\n",
       "  'year': 2013,\n",
       "  'genres': ['Animation', 'Adventure', 'Comedy'],\n",
       "  'duration': 91,\n",
       "  'directors': ['Jimmy Hayward'],\n",
       "  'actors': ['Owen Wilson', 'Woody Harrelson', 'Amy Poehler', 'George Takei'],\n",
       "  'rating': 5.8}]"
      ]
     },
     "execution_count": 17,
     "metadata": {},
     "output_type": "execute_result"
    }
   ],
   "source": [
    "#Q6: Which movies did 'George Takei' act in.\n",
    "actors_buckets['George Takei']"
   ]
  },
  {
   "cell_type": "code",
   "execution_count": 18,
   "id": "83fe633f",
   "metadata": {},
   "outputs": [],
   "source": [
    "genres = []\n",
    "for key in genre_buckets:\n",
    "    genres.append(key)"
   ]
  },
  {
   "cell_type": "code",
   "execution_count": 19,
   "id": "4699c0df",
   "metadata": {},
   "outputs": [
    {
     "data": {
      "text/plain": [
       "{'Action': 5611,\n",
       " 'Horror': 5175,\n",
       " 'Sci-Fi': 2148,\n",
       " 'Crime': 5078,\n",
       " 'Thriller': 5340,\n",
       " 'Comedy': 11130,\n",
       " 'Drama': 16410,\n",
       " 'Romance': 5753,\n",
       " 'History': 627,\n",
       " 'Adventure': 3849,\n",
       " 'Western': 1177,\n",
       " 'Family': 1585,\n",
       " 'Fantasy': 1537,\n",
       " 'War': 779,\n",
       " 'Sport': 565,\n",
       " 'Biography': 1009,\n",
       " 'Mystery': 2479,\n",
       " 'Film-Noir': 647,\n",
       " 'Music': 908,\n",
       " 'Animation': 676,\n",
       " 'Musical': 941,\n",
       " 'Reality-TV': 1,\n",
       " 'Documentary': 1,\n",
       " 'News': 1}"
      ]
     },
     "execution_count": 19,
     "metadata": {},
     "output_type": "execute_result"
    }
   ],
   "source": [
    "#Q7: How many movies are in each genre?\n",
    "genreMovies = {}\n",
    "for genre in genres:\n",
    "    if genre not in genreMovies:\n",
    "        genreMovies[genre] = len(genre_buckets[genre])\n",
    "\n",
    "genreMovies"
   ]
  },
  {
   "cell_type": "code",
   "execution_count": 20,
   "id": "23b6ec92",
   "metadata": {},
   "outputs": [
    {
     "data": {
      "image/png": "[encoded data removed]",
      "text/plain": [
       "<Figure size 432x288 with 1 Axes>"
      ]
     },
     "metadata": {
      "needs_background": "light"
     },
     "output_type": "display_data"
    }
   ],
   "source": [
    "#Q8: Plot the number of movies in each genre as a bar graph.\n",
    "plot_dict(genreMovies,'number of movies')"
   ]
  },
  {
   "cell_type": "code",
   "execution_count": 21,
   "id": "9e72b752",
   "metadata": {},
   "outputs": [],
   "source": [
    "years = []\n",
    "for movie in movies:\n",
    "    years.append(movie['year'])\n",
    "years = list(set(years))"
   ]
  },
  {
   "cell_type": "code",
   "execution_count": 22,
   "id": "5f67279a",
   "metadata": {},
   "outputs": [
    {
     "data": {
      "text/plain": [
       "{'1911 to 1920': 120,\n",
       " '1921 to 1930': 496,\n",
       " '1931 to 1940': 2256,\n",
       " '1941 to 1950': 2256,\n",
       " '1951 to 1960': 2201,\n",
       " '1961 to 1970': 1609,\n",
       " '1971 to 1980': 1889,\n",
       " '1981 to 1990': 2840,\n",
       " '1991 to 2000': 4280,\n",
       " '2001 to 2010': 6271,\n",
       " '2011 to 2020': 8884}"
      ]
     },
     "execution_count": 22,
     "metadata": {},
     "output_type": "execute_result"
    }
   ],
   "source": [
    "#Q9: Find the number of movies released in each decade.\n",
    "decadeMovies = {}\n",
    "for year in years:\n",
    "    decade = year_to_decade(year)\n",
    "    decadeMovies[decade] = 0\n",
    "for year in years:\n",
    "    decade = year_to_decade(year)\n",
    "    decadeMovies[decade] += len(year_buckets[year])\n",
    "decadeMovies"
   ]
  },
  {
   "cell_type": "code",
   "execution_count": 23,
   "id": "0de49bb4",
   "metadata": {},
   "outputs": [
    {
     "data": {
      "image/png": "[encoded data removed]",
      "text/plain": [
       "<Figure size 432x288 with 1 Axes>"
      ]
     },
     "metadata": {
      "needs_background": "light"
     },
     "output_type": "display_data"
    }
   ],
   "source": [
    "#Q10: Plot the number of movies released in each decade as a bar graph.\n",
    "plot_dict(decadeMovies, 'movies released')"
   ]
  },
  {
   "cell_type": "code",
   "execution_count": 24,
   "id": "ed10a566",
   "metadata": {},
   "outputs": [
    {
     "data": {
      "text/plain": [
       "{'Action': [{'title': 'The Dark Knight',\n",
       "   'year': 2008,\n",
       "   'genres': ['Action', 'Crime', 'Drama'],\n",
       "   'duration': 152,\n",
       "   'directors': ['Christopher Nolan'],\n",
       "   'actors': ['Christian Bale',\n",
       "    'Heath Ledger',\n",
       "    'Aaron Eckhart',\n",
       "    'Michael Caine'],\n",
       "   'rating': 9.0}],\n",
       " 'Horror': [{'title': 'Psycho',\n",
       "   'year': 1960,\n",
       "   'genres': ['Horror', 'Mystery', 'Thriller'],\n",
       "   'duration': 109,\n",
       "   'directors': ['Alfred Hitchcock'],\n",
       "   'actors': ['Anthony Perkins', 'Vera Miles', 'John Gavin'],\n",
       "   'rating': 8.5}],\n",
       " 'Sci-Fi': [{'title': 'Inception',\n",
       "   'year': 2010,\n",
       "   'genres': ['Action', 'Adventure', 'Sci-Fi'],\n",
       "   'duration': 148,\n",
       "   'directors': ['Christopher Nolan'],\n",
       "   'actors': ['Leonardo DiCaprio',\n",
       "    'Joseph Gordon-Levitt',\n",
       "    'Ellen Page',\n",
       "    'Tom Hardy'],\n",
       "   'rating': 8.8}],\n",
       " 'Crime': [{'title': 'The Godfather',\n",
       "   'year': 1972,\n",
       "   'genres': ['Crime', 'Drama'],\n",
       "   'duration': 175,\n",
       "   'directors': ['Francis Ford Coppola'],\n",
       "   'actors': ['Marlon Brando', 'Al Pacino'],\n",
       "   'rating': 9.2}],\n",
       " 'Thriller': [{'title': 'The Transcendents',\n",
       "   'year': 2018,\n",
       "   'genres': ['Music', 'Mystery', 'Thriller'],\n",
       "   'duration': 96,\n",
       "   'directors': ['Derek Ahonen'],\n",
       "   'actors': ['Rob Franco',\n",
       "    'Savannah Welch',\n",
       "    'Kathy Valentine',\n",
       "    'William Leroy',\n",
       "    'Derek Ahonen'],\n",
       "   'rating': 9.2}],\n",
       " 'Comedy': [{'title': 'The Moving on Phase',\n",
       "   'year': 2020,\n",
       "   'genres': ['Comedy'],\n",
       "   'duration': 85,\n",
       "   'directors': ['Don Tjernagel'],\n",
       "   'actors': ['Matt Anderson',\n",
       "    'Clint Boevers',\n",
       "    'Jillian Brown',\n",
       "    'Cody Croskrey',\n",
       "    'Skott Green'],\n",
       "   'rating': 9.5}],\n",
       " 'Drama': [{'title': 'Hopeful Notes',\n",
       "   'year': 2010,\n",
       "   'genres': ['Drama'],\n",
       "   'duration': 94,\n",
       "   'directors': ['Valerio Zanoli'],\n",
       "   'actors': ['Walter Nudo', 'Colin Ross', 'Ian Poland'],\n",
       "   'rating': 9.7}],\n",
       " 'Romance': [{'title': 'As I Am',\n",
       "   'year': 2019,\n",
       "   'genres': ['Drama', 'Fantasy', 'Romance'],\n",
       "   'duration': 62,\n",
       "   'directors': ['Anthony Bawn'],\n",
       "   'actors': ['Andre Myers', 'Jerimiyah Dunbar'],\n",
       "   'rating': 9.3}],\n",
       " 'History': [{'title': \"Schindler's List\",\n",
       "   'year': 1993,\n",
       "   'genres': ['Biography', 'Drama', 'History'],\n",
       "   'duration': 195,\n",
       "   'directors': ['Steven Spielberg'],\n",
       "   'actors': ['Liam Neeson',\n",
       "    'Ben Kingsley',\n",
       "    'Ralph Fiennes',\n",
       "    'Caroline Goodall',\n",
       "    'Jonathan Sagall'],\n",
       "   'rating': 8.9}],\n",
       " 'Adventure': [{'title': 'The Lord of the Rings: The Return of the King',\n",
       "   'year': 2003,\n",
       "   'genres': ['Action', 'Adventure', 'Drama'],\n",
       "   'duration': 201,\n",
       "   'directors': ['Peter Jackson'],\n",
       "   'actors': ['Sean Astin', 'John Bach', 'Sean Bean', 'Cate Blanchett'],\n",
       "   'rating': 8.9}],\n",
       " 'Western': [{'title': \"C'era una volta il West\",\n",
       "   'year': 1968,\n",
       "   'genres': ['Western'],\n",
       "   'duration': 165,\n",
       "   'directors': ['Sergio Leone'],\n",
       "   'actors': ['Claudia Cardinale', 'Henry Fonda', 'Jason Robards'],\n",
       "   'rating': 8.5}],\n",
       " 'Family': [{'title': 'All You Can Dream',\n",
       "   'year': 2012,\n",
       "   'genres': ['Comedy', 'Drama', 'Family'],\n",
       "   'duration': 79,\n",
       "   'directors': ['Valerio Zanoli'],\n",
       "   'actors': ['Anastacia', 'Hali Mason'],\n",
       "   'rating': 8.8}],\n",
       " 'Fantasy': [{'title': 'As I Am',\n",
       "   'year': 2019,\n",
       "   'genres': ['Drama', 'Fantasy', 'Romance'],\n",
       "   'duration': 62,\n",
       "   'directors': ['Anthony Bawn'],\n",
       "   'actors': ['Andre Myers', 'Jerimiyah Dunbar'],\n",
       "   'rating': 9.3}],\n",
       " 'War': [{'title': 'Saving Private Ryan',\n",
       "   'year': 1998,\n",
       "   'genres': ['Drama', 'War'],\n",
       "   'duration': 169,\n",
       "   'directors': ['Steven Spielberg'],\n",
       "   'actors': ['Tom Hanks',\n",
       "    'Tom Sizemore',\n",
       "    'Edward Burns',\n",
       "    'Barry Pepper',\n",
       "    'Adam Goldberg'],\n",
       "   'rating': 8.6}],\n",
       " 'Sport': [{'title': 'The Nomads',\n",
       "   'year': 2019,\n",
       "   'genres': ['Drama', 'Sport'],\n",
       "   'duration': 97,\n",
       "   'directors': ['Brandon Eric Kamin'],\n",
       "   'actors': ['Andrea Barnes', 'Erik Blachford', 'Jennifer Butler'],\n",
       "   'rating': 8.2},\n",
       "  {'title': 'Raging Bull',\n",
       "   'year': 1980,\n",
       "   'genres': ['Biography', 'Drama', 'Sport'],\n",
       "   'duration': 129,\n",
       "   'directors': ['Martin Scorsese'],\n",
       "   'actors': ['Robert De Niro', 'Cathy Moriarty'],\n",
       "   'rating': 8.2},\n",
       "  {'title': 'Warrior',\n",
       "   'year': 2011,\n",
       "   'genres': ['Action', 'Drama', 'Sport'],\n",
       "   'duration': 140,\n",
       "   'directors': [\"Gavin O'Connor\"],\n",
       "   'actors': ['Joel Edgerton', 'Tom Hardy', 'Nick Nolte'],\n",
       "   'rating': 8.2}],\n",
       " 'Biography': [{'title': \"Schindler's List\",\n",
       "   'year': 1993,\n",
       "   'genres': ['Biography', 'Drama', 'History'],\n",
       "   'duration': 195,\n",
       "   'directors': ['Steven Spielberg'],\n",
       "   'actors': ['Liam Neeson',\n",
       "    'Ben Kingsley',\n",
       "    'Ralph Fiennes',\n",
       "    'Caroline Goodall',\n",
       "    'Jonathan Sagall'],\n",
       "   'rating': 8.9}],\n",
       " 'Mystery': [{'title': 'The Transcendents',\n",
       "   'year': 2018,\n",
       "   'genres': ['Music', 'Mystery', 'Thriller'],\n",
       "   'duration': 96,\n",
       "   'directors': ['Derek Ahonen'],\n",
       "   'actors': ['Rob Franco',\n",
       "    'Savannah Welch',\n",
       "    'Kathy Valentine',\n",
       "    'William Leroy',\n",
       "    'Derek Ahonen'],\n",
       "   'rating': 9.2}],\n",
       " 'Film-Noir': [{'title': 'Sunset Blvd.',\n",
       "   'year': 1950,\n",
       "   'genres': ['Drama', 'Film-Noir'],\n",
       "   'duration': 110,\n",
       "   'directors': ['Billy Wilder'],\n",
       "   'actors': ['William Holden', 'Gloria Swanson', 'Erich von Stroheim'],\n",
       "   'rating': 8.4}],\n",
       " 'Music': [{'title': 'The Transcendents',\n",
       "   'year': 2018,\n",
       "   'genres': ['Music', 'Mystery', 'Thriller'],\n",
       "   'duration': 96,\n",
       "   'directors': ['Derek Ahonen'],\n",
       "   'actors': ['Rob Franco',\n",
       "    'Savannah Welch',\n",
       "    'Kathy Valentine',\n",
       "    'William Leroy',\n",
       "    'Derek Ahonen'],\n",
       "   'rating': 9.2}],\n",
       " 'Animation': [{'title': 'Doraleous and Associates',\n",
       "   'year': 2010,\n",
       "   'genres': ['Animation'],\n",
       "   'duration': 100,\n",
       "   'directors': ['Brent Triplett'],\n",
       "   'actors': ['Jon Etheridge', 'Bryan Mahoney', 'Nate Panning', 'Tony Schnur'],\n",
       "   'rating': 8.6}],\n",
       " 'Musical': [{'title': 'Spies Are Forever',\n",
       "   'year': 2016,\n",
       "   'genres': ['Musical'],\n",
       "   'duration': 159,\n",
       "   'directors': ['Corey Lubowich'],\n",
       "   'actors': ['Curt Mega',\n",
       "    'Mary Kate Wiles',\n",
       "    'Joey Richter',\n",
       "    'Brian Rosenthal'],\n",
       "   'rating': 8.7},\n",
       "  {'title': \"The Guy Who Didn't Like Musicals\",\n",
       "   'year': 2018,\n",
       "   'genres': ['Comedy', 'Musical'],\n",
       "   'duration': 112,\n",
       "   'directors': ['Nick Lang'],\n",
       "   'actors': ['Jon Matteson', 'Lauren Lopez', 'Joey Richter'],\n",
       "   'rating': 8.7}],\n",
       " 'Reality-TV': [{'title': 'Human Zoo',\n",
       "   'year': 2020,\n",
       "   'genres': ['Horror', 'Reality-TV', 'Thriller'],\n",
       "   'duration': 109,\n",
       "   'directors': ['John E Seymore'],\n",
       "   'actors': ['Robert Carradine', 'Jose Rosete', 'Rachel Amanda Bryant'],\n",
       "   'rating': 2.1}],\n",
       " 'Documentary': [{'title': 'This Is Elvis',\n",
       "   'year': 1981,\n",
       "   'genres': ['Documentary', 'Biography', 'Music'],\n",
       "   'duration': 101,\n",
       "   'directors': ['Malcolm Leo', 'Andrew Solt'],\n",
       "   'actors': ['David Scott',\n",
       "    'Paul Boensch III',\n",
       "    'Johnny Harra',\n",
       "    'Larry Raspberry'],\n",
       "   'rating': 7.5}],\n",
       " 'News': [{'title': 'A Fighting Season',\n",
       "   'year': 2015,\n",
       "   'genres': ['Drama', 'News', 'War'],\n",
       "   'duration': 82,\n",
       "   'directors': ['Oden Roberts'],\n",
       "   'actors': ['Clayne Crawford', 'Lew Temple'],\n",
       "   'rating': 6.4}]}"
      ]
     },
     "execution_count": 24,
     "metadata": {},
     "output_type": "execute_result"
    }
   ],
   "source": [
    "#Q11: Find the highest rated movies for each genre.\n",
    "genreMax = {}\n",
    "for genre in genres:\n",
    "    movie = {}\n",
    "    movie = max_rated_movies(genre_buckets[genre])\n",
    "    genreMax[genre] = movie\n",
    "genreMax"
   ]
  },
  {
   "cell_type": "code",
   "execution_count": 25,
   "id": "0bdb0a72",
   "metadata": {},
   "outputs": [
    {
     "data": {
      "text/plain": [
       "{'Action': 5.5,\n",
       " 'Horror': 4.6,\n",
       " 'Sci-Fi': 4.9,\n",
       " 'Crime': 6.0,\n",
       " 'Thriller': 5.1,\n",
       " 'Comedy': 5.9,\n",
       " 'Drama': 6.1,\n",
       " 'Romance': 6.2,\n",
       " 'History': 6.5,\n",
       " 'Adventure': 6.0,\n",
       " 'Western': 6.2,\n",
       " 'Family': 5.9,\n",
       " 'Fantasy': 5.7,\n",
       " 'War': 6.4,\n",
       " 'Sport': 6.1,\n",
       " 'Biography': 6.7,\n",
       " 'Mystery': 5.8,\n",
       " 'Film-Noir': 6.6,\n",
       " 'Music': 6.2,\n",
       " 'Animation': 6.4,\n",
       " 'Musical': 6.2,\n",
       " 'Reality-TV': 2.1,\n",
       " 'Documentary': 7.5,\n",
       " 'News': 6.4}"
      ]
     },
     "execution_count": 25,
     "metadata": {},
     "output_type": "execute_result"
    }
   ],
   "source": [
    "#Q12: Find the median rating of movies from each genre.\n",
    "genreRating = {}\n",
    "for genre in genres:\n",
    "    ratings = []\n",
    "    for i in range(len(genre_buckets[genre])):\n",
    "        ratings.append(genre_buckets[genre][i]['rating'])\n",
    "    genreRating[genre] = median(ratings)\n",
    "genreRating"
   ]
  },
  {
   "cell_type": "code",
   "execution_count": 26,
   "id": "91221688",
   "metadata": {},
   "outputs": [
    {
     "data": {
      "image/png": "[encoded data removed]",
      "text/plain": [
       "<Figure size 432x288 with 1 Axes>"
      ]
     },
     "metadata": {
      "needs_background": "light"
     },
     "output_type": "display_data"
    }
   ],
   "source": [
    "#Q13: Plot the median ratings of movies in each genre as a bar graph.\n",
    "plot_dict(genreRating,'movie rating')"
   ]
  },
  {
   "cell_type": "code",
   "execution_count": 45,
   "id": "c5295a07",
   "metadata": {},
   "outputs": [
    {
     "data": {
      "text/plain": [
       "['Documentary',\n",
       " 'Biography',\n",
       " 'Film-Noir',\n",
       " 'History',\n",
       " 'News',\n",
       " 'Animation',\n",
       " 'War',\n",
       " 'Musical',\n",
       " 'Music',\n",
       " 'Western',\n",
       " 'Romance',\n",
       " 'Sport',\n",
       " 'Drama',\n",
       " 'Adventure',\n",
       " 'Crime',\n",
       " 'Family',\n",
       " 'Comedy',\n",
       " 'Mystery',\n",
       " 'Fantasy',\n",
       " 'Action',\n",
       " 'Thriller',\n",
       " 'Sci-Fi',\n",
       " 'Horror',\n",
       " 'Reality-TV']"
      ]
     },
     "execution_count": 45,
     "metadata": {},
     "output_type": "execute_result"
    }
   ],
   "source": [
    "#Q14: Produce a list of genres sorted in decreasing order of their median rating.\n",
    "genreSort = []\n",
    "genre_ratings = dict(sorted(genreRating.items(), key=lambda item: item[1]))\n",
    "for genre in genre_ratings:\n",
    "    genreSort.append(genre)\n",
    "genreSort.reverse()\n",
    "genreSort"
   ]
  },
  {
   "cell_type": "code",
   "execution_count": 28,
   "id": "8d3d004e",
   "metadata": {},
   "outputs": [
    {
     "data": {
      "text/plain": [
       "[{'title': 'Shrek',\n",
       "  'year': 2001,\n",
       "  'genres': ['Animation', 'Adventure', 'Comedy'],\n",
       "  'duration': 90,\n",
       "  'directors': ['Andrew Adamson', 'Vicky Jenson'],\n",
       "  'actors': ['Mike Myers', 'Eddie Murphy'],\n",
       "  'rating': 7.8},\n",
       " {'title': 'Shrek 2',\n",
       "  'year': 2004,\n",
       "  'genres': ['Animation', 'Adventure', 'Comedy'],\n",
       "  'duration': 93,\n",
       "  'directors': ['Andrew Adamson', 'Kelly Asbury'],\n",
       "  'actors': ['Mike Myers', 'Eddie Murphy'],\n",
       "  'rating': 7.2},\n",
       " {'title': 'Shrek the Third',\n",
       "  'year': 2007,\n",
       "  'genres': ['Animation', 'Adventure', 'Comedy'],\n",
       "  'duration': 93,\n",
       "  'directors': ['Chris Miller', 'Raman Hui'],\n",
       "  'actors': ['Mike Myers', 'Eddie Murphy', 'Cameron Diaz', 'Antonio Banderas'],\n",
       "  'rating': 6.1},\n",
       " {'title': 'Shrek Forever After',\n",
       "  'year': 2010,\n",
       "  'genres': ['Animation', 'Adventure', 'Comedy'],\n",
       "  'duration': 93,\n",
       "  'directors': ['Mike Mitchell'],\n",
       "  'actors': ['Mike Myers', 'Eddie Murphy', 'Cameron Diaz', 'Antonio Banderas'],\n",
       "  'rating': 6.3},\n",
       " {'title': 'Shrek the Musical',\n",
       "  'year': 2013,\n",
       "  'genres': ['Comedy', 'Family', 'Fantasy'],\n",
       "  'duration': 130,\n",
       "  'directors': ['Michael John Warren'],\n",
       "  'actors': [\"Brian d'Arcy James\", 'Sutton Foster', 'Christopher Sieber'],\n",
       "  'rating': 7.0},\n",
       " {'title': 'Shrek Retold',\n",
       "  'year': 2018,\n",
       "  'genres': ['Animation', 'Adventure', 'Comedy'],\n",
       "  'duration': 90,\n",
       "  'directors': ['Grant Duffrin'],\n",
       "  'actors': ['Harry Antonucci', 'Russell Bailey'],\n",
       "  'rating': 7.5}]"
      ]
     },
     "execution_count": 28,
     "metadata": {},
     "output_type": "execute_result"
    }
   ],
   "source": [
    "#Q15: Produce a list of Shrek movies sorted in increasing order of their year of release.\n",
    "yearShrek = []\n",
    "movieShrek = []\n",
    "Shrek = find_specific_movies(movies,'Shrek')\n",
    "for movie in Shrek:\n",
    "    yearShrek.append(movie['year'])\n",
    "yearShrek.sort()\n",
    "for i in yearShrek:\n",
    "    for movie in Shrek:\n",
    "        if movie['year'] == i:\n",
    "            movieShrek.append(movie)\n",
    "movieShrek"
   ]
  },
  {
   "cell_type": "code",
   "execution_count": 29,
   "id": "e70ac9c9",
   "metadata": {},
   "outputs": [
    {
     "data": {
      "text/plain": [
       "[{'title': 'Little Man Tate',\n",
       "  'year': 1991,\n",
       "  'genres': ['Drama'],\n",
       "  'duration': 99,\n",
       "  'directors': ['Jodie Foster'],\n",
       "  'actors': ['Jodie Foster', 'Alex Lee', 'Adam Hann-Byrd'],\n",
       "  'rating': 6.6}]"
      ]
     },
     "execution_count": 29,
     "metadata": {},
     "output_type": "execute_result"
    }
   ],
   "source": [
    "#Q16: Find a list of all movies in which 'Jodie Foster' is both an actor and director.\n",
    "jodie = actors_buckets['Jodie Foster']\n",
    "jodieMovie = []\n",
    "for movie in jodie:\n",
    "    if 'Jodie Foster' in movie['directors']:\n",
    "        jodieMovie.append(movie)\n",
    "jodieMovie"
   ]
  },
  {
   "cell_type": "code",
   "execution_count": 30,
   "id": "8653c25f",
   "metadata": {},
   "outputs": [
    {
     "data": {
      "text/plain": [
       "'A Perfect World'"
      ]
     },
     "execution_count": 30,
     "metadata": {},
     "output_type": "execute_result"
    }
   ],
   "source": [
    "#Q17: What is the title of the longest movie both acted and directed by 'Clint Eastwood'?\n",
    "clint = actors_buckets['Clint Eastwood']\n",
    "clintMovie = []\n",
    "for movie in clint:\n",
    "    if 'Clint Eastwood' in movie['directors']:\n",
    "        clintMovie.append(movie)\n",
    "max = 0\n",
    "for movie in clintMovie:\n",
    "    if movie['duration'] > max:\n",
    "        max = movie['duration']\n",
    "        answer = movie['title']\n",
    "answer"
   ]
  },
  {
   "cell_type": "code",
   "execution_count": 31,
   "id": "f1a5d74c",
   "metadata": {},
   "outputs": [
    {
     "data": {
      "text/plain": [
       "['Jupiter Ascending', 'Speed Racer']"
      ]
     },
     "execution_count": 31,
     "metadata": {},
     "output_type": "execute_result"
    }
   ],
   "source": [
    "#Q18: What are the titles of the movies directed by the Wachowskis contain both 'Action' and 'Adventure' in their genre?\n",
    "wachMovies = directors_buckets['Lana Wachowski']\n",
    "wachList = []\n",
    "for movie in wachMovies:\n",
    "    if 'Lilly Wachowski' in movie['directors']:\n",
    "        if 'Action' in movie['genres'] and 'Adventure' in movie['genres']:\n",
    "            wachList.append(movie['title'])\n",
    "wachList"
   ]
  },
  {
   "cell_type": "code",
   "execution_count": 32,
   "id": "18e0369a",
   "metadata": {},
   "outputs": [
    {
     "data": {
      "text/plain": [
       "['Hibakusha',\n",
       " 'King Candy',\n",
       " 'Amy Winehouse: Fallen Star',\n",
       " 'Steve Jobs: Visionary Genius',\n",
       " 'The Road to Hollywood',\n",
       " 'Danny Greene: The Rise and Fall of the Irishman',\n",
       " 'From the Manger to the Cross; or, Jesus of Nazareth',\n",
       " 'Joseph Smith: Prophet of the Restoration',\n",
       " 'The Trade',\n",
       " 'Blondes at Work',\n",
       " 'Spirit of Youth',\n",
       " 'The Loves of Edgar Allan Poe',\n",
       " 'Alexander Hamilton',\n",
       " 'Dillinger',\n",
       " 'Memoria']"
      ]
     },
     "execution_count": 32,
     "metadata": {},
     "output_type": "execute_result"
    }
   ],
   "source": [
    "#Q19: Find the titles of the 15 shortest Biographies in the dataset.\n",
    "biographies = genre_buckets['Biography']\n",
    "duration = []\n",
    "title_list = []\n",
    "for movie in biographies:\n",
    "    duration.append(movie['duration'])\n",
    "duration.sort()\n",
    "duration = duration[:15]\n",
    "for i in duration:\n",
    "    for movie in biographies:\n",
    "        if movie['duration'] == i:\n",
    "            if movie['title'] not in title_list:\n",
    "                title_list.append(movie['title'])\n",
    "title_list"
   ]
  },
  {
   "cell_type": "code",
   "execution_count": 33,
   "id": "69963068",
   "metadata": {},
   "outputs": [],
   "source": [
    "actors = []\n",
    "for key in actors_buckets:\n",
    "    actors.append(key)"
   ]
  },
  {
   "cell_type": "code",
   "execution_count": 34,
   "id": "cfe71edd",
   "metadata": {},
   "outputs": [
    {
     "data": {
      "text/plain": [
       "['Audrey Hepburn',\n",
       " 'Leonardo DiCaprio',\n",
       " 'Ryan Gosling',\n",
       " 'Woody Allen',\n",
       " 'Harold Lloyd',\n",
       " 'Laurence Olivier',\n",
       " 'Ralph Fiennes',\n",
       " 'Philip Seymour Hoffman',\n",
       " 'Brad Pitt',\n",
       " 'Tom Cruise',\n",
       " 'Buster Keaton',\n",
       " 'Christian Bale',\n",
       " 'Russell Crowe',\n",
       " 'Bill Murray',\n",
       " 'Albert Brooks',\n",
       " 'Bette Davis',\n",
       " 'Judy Garland',\n",
       " 'Jake Gyllenhaal',\n",
       " 'Amy Adams',\n",
       " 'Humphrey Bogart',\n",
       " 'Groucho Marx',\n",
       " 'Donald Crisp',\n",
       " 'Matt Damon',\n",
       " 'Chris Cooper',\n",
       " 'Fred Astaire']"
      ]
     },
     "execution_count": 34,
     "metadata": {},
     "output_type": "execute_result"
    }
   ],
   "source": [
    "#Q20: Find the top 25 actors with the highest median rating among those actors who have acted in at least 15 movies.\n",
    "actorValid = {}\n",
    "for actor in actors:\n",
    "    if len(actors_buckets[actor])>14:\n",
    "        actorValid[actor] = actors_buckets[actor]\n",
    "actorRating = {}\n",
    "for actor in actorValid:\n",
    "    ratings = []\n",
    "    for i in range(len(actorValid[actor])):\n",
    "        ratings.append(actorValid[actor][i]['rating'])\n",
    "    actorRating[actor] = median(ratings)\n",
    "finalRating = dict(sorted(actorRating.items(), key=lambda item: item[1]))\n",
    "finalList = []\n",
    "for actor in finalRating:\n",
    "    finalList.append(actor)\n",
    "finalList.reverse()\n",
    "finalList[:25]"
   ]
  },
  {
   "cell_type": "code",
   "execution_count": null,
   "id": "fb72f9cb",
   "metadata": {},
   "outputs": [],
   "source": []
  }
 ],
 "metadata": {
  "kernelspec": {
   "display_name": "Python 3 (ipykernel)",
   "language": "python",
   "name": "python3"
  },
  "language_info": {
   "codemirror_mode": {
    "name": "ipython",
    "version": 3
   },
   "file_extension": ".py",
   "mimetype": "text/x-python",
   "name": "python",
   "nbconvert_exporter": "python",
   "pygments_lexer": "ipython3",
   "version": "3.9.7"
  }
 },
 "nbformat": 4,
 "nbformat_minor": 5
}
